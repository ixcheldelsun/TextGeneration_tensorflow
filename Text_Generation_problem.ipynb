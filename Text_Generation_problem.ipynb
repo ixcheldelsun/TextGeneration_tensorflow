{
  "nbformat": 4,
  "nbformat_minor": 0,
  "metadata": {
    "colab": {
      "name": "Text Generation problem",
      "provenance": [],
      "collapsed_sections": [
        "rm5vwKJFQdRg",
        "DDLKHW2OTIH_",
        "DScHVzrqRIoK",
        "ce9oq7bjR3Xz"
      ],
      "mount_file_id": "1NY4sIQdqnNtbPIkoz10vBc_an38vTlqB",
      "authorship_tag": "ABX9TyMwDzSDQrmnE4m0fbkhhZEg",
      "include_colab_link": true
    },
    "kernelspec": {
      "name": "python3",
      "display_name": "Python 3"
    }
  },
  "cells": [
    {
      "cell_type": "markdown",
      "metadata": {
        "id": "view-in-github",
        "colab_type": "text"
      },
      "source": [
        "<a href=\"https://colab.research.google.com/github/ixcheldelsun/TextGeneration_tensorflow/blob/master/Text_Generation_problem.ipynb\" target=\"_parent\"><img src=\"https://colab.research.google.com/assets/colab-badge.svg\" alt=\"Open In Colab\"/></a>"
      ]
    },
    {
      "cell_type": "markdown",
      "metadata": {
        "id": "ExO9J_m1QNYC",
        "colab_type": "text"
      },
      "source": [
        "# Text generation problem"
      ]
    },
    {
      "cell_type": "markdown",
      "metadata": {
        "id": "MSGz-RAKSfv7",
        "colab_type": "text"
      },
      "source": [
        "Se hizo este modelo de text generation tomando como referencia el modelo RNN de la siguiente página: https://www.tensorflow.org/tutorials/text/text_generation, modificandolo para que funcionara con los datasets planteados para el desafío. "
      ]
    },
    {
      "cell_type": "markdown",
      "metadata": {
        "id": "ntWU3tM4QV3-",
        "colab_type": "text"
      },
      "source": [
        "## Librerías importadas"
      ]
    },
    {
      "cell_type": "code",
      "metadata": {
        "id": "5VoYToDFafxf",
        "colab_type": "code",
        "colab": {}
      },
      "source": [
        "import tensorflow as tf\n",
        "import pandas as pd\n",
        "import numpy as np\n",
        "import os\n",
        "import time"
      ],
      "execution_count": 1,
      "outputs": []
    },
    {
      "cell_type": "code",
      "metadata": {
        "id": "nO2rAKrhf4Tr",
        "colab_type": "code",
        "colab": {
          "base_uri": "https://localhost:8080/",
          "height": 34
        },
        "outputId": "0d7723bc-fbac-4511-8562-5c1e06712c44"
      },
      "source": [
        "from google.colab import drive\n",
        "drive.mount(\"/content/gdrive\")"
      ],
      "execution_count": 2,
      "outputs": [
        {
          "output_type": "stream",
          "text": [
            "Mounted at /content/gdrive\n"
          ],
          "name": "stdout"
        }
      ]
    },
    {
      "cell_type": "markdown",
      "metadata": {
        "id": "rm5vwKJFQdRg",
        "colab_type": "text"
      },
      "source": [
        "## Descarga de la data"
      ]
    },
    {
      "cell_type": "markdown",
      "metadata": {
        "id": "DDLKHW2OTIH_",
        "colab_type": "text"
      },
      "source": [
        "### Descarga de la data de https://ndownloader.figshare.com/files/3199448 "
      ]
    },
    {
      "cell_type": "code",
      "metadata": {
        "id": "iHuAgIXjdUJd",
        "colab_type": "code",
        "colab": {
          "base_uri": "https://localhost:8080/",
          "height": 51
        },
        "outputId": "139ad718-7d72-441d-d1fd-50680e8dafd3"
      },
      "source": [
        "path_to_keywords = tf.keras.utils.get_file('keywords_train.txt', 'https://ndownloader.figshare.com/files/3199448')"
      ],
      "execution_count": 3,
      "outputs": [
        {
          "output_type": "stream",
          "text": [
            "Downloading data from https://ndownloader.figshare.com/files/3199448\n",
            "8192/2361 [========================================================================================================] - 0s 0us/step\n"
          ],
          "name": "stdout"
        }
      ]
    },
    {
      "cell_type": "code",
      "metadata": {
        "id": "3NyxUkRp7_sy",
        "colab_type": "code",
        "colab": {
          "base_uri": "https://localhost:8080/",
          "height": 71
        },
        "outputId": "da57ce13-a5a1-4ed3-9482-15dc7632ad92"
      },
      "source": [
        "path_to_keywords_eval = tf.keras.utils.get_file('keywords_eval.txt', 'https://competitions.codalab.org/my/datasets/download/1d4287b8-74ef-4807-9f07-1cf62a3f15d5')"
      ],
      "execution_count": 4,
      "outputs": [
        {
          "output_type": "stream",
          "text": [
            "Downloading data from https://competitions.codalab.org/my/datasets/download/1d4287b8-74ef-4807-9f07-1cf62a3f15d5\n",
            "8192/85 [===========================================================================================================================================================================================================================================================================================================================================================================================================================================================================================================================================================================================================================================================================================================================================================================================================================================================================================================================================================================================================================================================================================================================================================================================================================================================================================================================================================================================================================================================================================================================================================================================================================================================================================================================================================================================================================================================================================================================================================================================================================================================================================================================================================================================================================================================================================================================================================================================================================================================================================================================================================================================================================================================================================================================================================================================================================================================================================================================================================================================================] - 0s 0us/step\n"
          ],
          "name": "stdout"
        }
      ]
    },
    {
      "cell_type": "code",
      "metadata": {
        "id": "YAA5VHZDe2hA",
        "colab_type": "code",
        "colab": {
          "base_uri": "https://localhost:8080/",
          "height": 34
        },
        "outputId": "307d0727-6873-492b-acd4-940f1ee7b78d"
      },
      "source": [
        "keyword_train_text = text = open(path_to_keywords, 'rb').read().decode(encoding='utf-8')\n",
        "keyword_eval_text = text_eval = open(path_to_keywords_eval, 'rb').read().decode(encoding='utf-8')\n",
        "\n",
        "print ('Length of text: {} characters'.format(len(text)))"
      ],
      "execution_count": 5,
      "outputs": [
        {
          "output_type": "stream",
          "text": [
            "Length of text: 2361 characters\n"
          ],
          "name": "stdout"
        }
      ]
    },
    {
      "cell_type": "markdown",
      "metadata": {
        "id": "_cQKgfeTTVXk",
        "colab_type": "text"
      },
      "source": [
        "### Descarga y procesamiento de la data de https://data.mendeley.com/datasets/hpfprmy49b/1/files/ef50dc7c-f5c7-4da9-ad3e-cd14d6767255/health_claim_data_submit.xls?dl=1"
      ]
    },
    {
      "cell_type": "code",
      "metadata": {
        "id": "f3KCCeg0fHGz",
        "colab_type": "code",
        "colab": {}
      },
      "source": [
        "headlines_df = pd.read_excel(r'/content/gdrive/My Drive/health_claim_data_submit.xls')"
      ],
      "execution_count": 6,
      "outputs": []
    },
    {
      "cell_type": "code",
      "metadata": {
        "id": "xS2BTdgYisUX",
        "colab_type": "code",
        "colab": {}
      },
      "source": [
        "headlines_df = headlines_df.drop(['news_title', 'reported_date', 'source', 'health_claim_or_not', 'IV', 'relation', 'DV', 'multiple_IV'], axis = 1)"
      ],
      "execution_count": 7,
      "outputs": []
    },
    {
      "cell_type": "code",
      "metadata": {
        "id": "KnbgIbqlmTHH",
        "colab_type": "code",
        "colab": {}
      },
      "source": [
        "headlines_df = headlines_df.news_topic.astype(str)"
      ],
      "execution_count": 8,
      "outputs": []
    },
    {
      "cell_type": "code",
      "metadata": {
        "id": "1Q-45zMQl37O",
        "colab_type": "code",
        "colab": {
          "base_uri": "https://localhost:8080/",
          "height": 137
        },
        "outputId": "5154b31f-d8ab-44c9-b8ba-d96e51f360dd"
      },
      "source": [
        "headlines = headlines_df.values\n",
        "headlines = np.array2string(headlines)\n",
        "headlines = headlines[1:-1]\n",
        "headlines"
      ],
      "execution_count": 9,
      "outputs": [
        {
          "output_type": "execute_result",
          "data": {
            "application/vnd.google.colaboratory.intrinsic+json": {
              "type": "string"
            },
            "text/plain": [
              "\"'Breast Cancer' 'Diabetes' 'Diabetes' 'Diabetes' 'Diabetes'\\n 'Breast Cancer' 'Diabetes' 'Breast Cancer' 'Breast Cancer' 'Diabetes'\\n 'Breast Cancer' 'Diabetes' 'Diabetes' 'Breast Cancer' 'Breast Cancer'\\n 'Breast Cancer' 'Breast Cancer' 'Diabetes' 'Diabetes' 'Diabetes'\\n 'Diabetes' 'Diabetes' 'Diabetes' 'Breast Cancer' 'Diabetes'\\n 'Breast Cancer' 'Diabetes' 'Diabetes' 'Breast Cancer' 'Breast Cancer'\\n 'Breast Cancer' 'Diabetes' 'Diabetes' 'Diabetes' 'Breast Cancer'\\n 'Diabetes' 'Diabetes' 'Breast Cancer' 'Diabetes' 'Breast Cancer'\\n 'Diabetes' 'Breast Cancer' 'Diabetes' 'Diabetes' 'Diabetes' 'Diabetes'\\n 'Diabetes' 'Diabetes' 'Diabetes' 'Diabetes' 'Diabetes' 'Breast Cancer'\\n 'Diabetes' 'Breast Cancer' 'Breast Cancer' 'Diabetes' 'Breast Cancer'\\n 'Diabetes' 'Diabetes' 'Diabetes' 'Diabetes' 'Diabetes' 'Diabetes'\\n 'Diabetes' 'Breast Cancer' 'Diabetes' 'Diabetes' 'Diabetes' 'Diabetes'\\n 'Diabetes' 'Diabetes' 'Diabetes' 'Breast Cancer' 'Breast Cancer'\\n 'Breast Cancer' 'Diabetes' 'Breast Cancer' 'Diabetes' 'Breast Cancer'\\n 'Breast Cancer' 'Diabetes' 'Diabetes' 'Breast Cancer' 'Diabetes'\\n 'Breast Cancer' 'Diabetes' 'Diabetes' 'Breast Cancer' 'Diabetes'\\n 'Diabetes' 'Diabetes' 'Diabetes' 'Breast Cancer' 'Breast Cancer'\\n 'Breast Cancer' 'Diabetes' 'Diabetes' 'Diabetes' 'Diabetes'\\n 'Breast Cancer' 'Diabetes' 'Diabetes' 'Breast Cancer' 'Breast Cancer'\\n 'Diabetes' 'Diabetes' 'Breast Cancer' 'Diabetes' 'Diabetes' 'Diabetes'\\n 'Diabetes' 'Diabetes' 'Diabetes' 'Diabetes' 'Diabetes' 'Breast Cancer'\\n 'Diabetes' 'Diabetes' 'Diabetes' 'Breast Cancer' 'Diabetes' 'Diabetes'\\n 'Breast Cancer' 'Diabetes' 'Breast Cancer' 'Breast Cancer' 'Diabetes'\\n 'Diabetes' 'Diabetes' 'Breast Cancer' 'Breast Cancer' 'Diabetes'\\n 'Diabetes' 'Diabetes' 'Diabetes' 'Diabetes' 'Diabetes' 'Diabetes'\\n 'Diabetes' 'Breast Cancer' 'Diabetes' 'Breast Cancer' 'Diabetes'\\n 'Diabetes' 'Diabetes' 'Diabetes' 'Breast Cancer' 'Diabetes' 'Diabetes'\\n 'Diabetes' 'Diabetes' 'Diabetes' 'Diabetes' 'Diabetes' 'Breast Cancer'\\n 'Diabetes' 'Diabetes' 'Breast Cancer' 'Diabetes' 'Diabetes' 'Diabetes'\\n 'Breast Cancer' 'Diabetes' 'Breast Cancer' 'Diabetes' 'Diabetes'\\n 'Breast Cancer' 'Breast Cancer' 'Diabetes' 'Diabetes' 'Diabetes'\\n 'Diabetes' 'Diabetes' 'Breast Cancer' 'Diabetes' 'Diabetes'\\n 'Breast Cancer' 'Breast Cancer' 'Breast Cancer' 'Breast Cancer'\\n 'Diabetes' 'Diabetes' 'Diabetes' 'Diabetes' 'Diabetes' 'Breast Cancer'\\n 'Diabetes' 'Breast Cancer' 'Diabetes' 'Breast Cancer' 'Breast Cancer'\\n 'Breast Cancer' 'Diabetes' 'Breast Cancer' 'Diabetes' 'Breast Cancer'\\n 'Diabetes' 'Breast Cancer' 'Breast Cancer' 'Breast Cancer'\\n 'Breast Cancer' 'Diabetes' 'Diabetes' 'Breast Cancer' 'Diabetes'\\n 'Breast Cancer' 'Diabetes' 'Diabetes' 'Breast Cancer' 'Breast Cancer'\\n 'Diabetes' 'Diabetes' 'Diabetes' 'Diabetes' 'Diabetes' 'Diabetes'\\n 'Diabetes' 'Breast Cancer' 'Diabetes' 'Diabetes' 'Diabetes' 'Diabetes'\\n 'Breast Cancer' 'Diabetes' 'Diabetes' 'Breast Cancer' 'Breast Cancer'\\n 'Diabetes' 'Diabetes' 'Breast Cancer' 'Diabetes' 'Diabetes'\\n 'Breast Cancer' 'Breast Cancer' 'Breast Cancer' 'Diabetes' 'Diabetes'\\n 'Breast Cancer' 'Breast Cancer' 'Diabetes' 'Breast Cancer'\\n 'Breast Cancer' 'Breast Cancer' 'Breast Cancer' 'Diabetes'\\n 'Breast Cancer' 'Diabetes' 'Diabetes' 'Diabetes' 'Breast Cancer'\\n 'Breast Cancer' 'Diabetes' 'Diabetes' 'Diabetes' 'Diabetes'\\n 'Breast Cancer' 'Breast Cancer' 'Diabetes' 'Diabetes' 'Breast Cancer'\\n 'Diabetes' 'Diabetes' 'Diabetes' 'Breast Cancer' 'Breast Cancer'\\n 'Diabetes' 'Breast Cancer' 'Breast Cancer' 'Diabetes' 'Diabetes'\\n 'Diabetes' 'Diabetes' 'Diabetes' 'Diabetes' 'Diabetes' 'Breast Cancer'\\n 'Diabetes' 'Breast Cancer' 'Breast Cancer' 'Diabetes' 'Breast Cancer'\\n 'Diabetes' 'Breast Cancer' 'Diabetes' 'Diabetes' 'Diabetes' 'Diabetes'\\n 'Diabetes' 'Breast Cancer' 'Diabetes' 'Breast Cancer' 'Diabetes'\\n 'Breast Cancer' 'Diabetes' 'Diabetes' 'Diabetes' 'Diabetes' 'Diabetes'\\n 'Diabetes' 'Diabetes' 'Breast Cancer' 'Breast Cancer' 'Diabetes'\\n 'Diabetes' 'Breast Cancer' 'Diabetes' 'Breast Cancer' 'Breast Cancer'\\n 'Diabetes' 'Breast Cancer' 'Diabetes' 'Diabetes' 'Diabetes' 'Diabetes'\\n 'Breast Cancer' 'Diabetes' 'Diabetes' 'Diabetes' 'Diabetes'\\n 'Breast Cancer' 'Diabetes' 'Breast Cancer' 'Breast Cancer' 'Diabetes'\\n 'Diabetes' 'Diabetes' 'Diabetes' 'Diabetes' 'Diabetes' 'Diabetes'\\n 'Breast Cancer' 'Breast Cancer' 'Diabetes' 'Diabetes' 'Breast Cancer'\\n 'Diabetes' 'Breast Cancer' 'Breast Cancer' 'Diabetes' 'Diabetes'\\n 'Diabetes' 'Breast Cancer' 'Diabetes' 'Breast Cancer' 'Breast Cancer'\\n 'Diabetes' 'Diabetes' 'Diabetes' 'Diabetes' 'Diabetes' 'Breast Cancer'\\n 'Breast Cancer' 'Breast Cancer' 'Diabetes' 'Diabetes' 'Diabetes'\\n 'Breast Cancer' 'Diabetes' 'Breast Cancer' 'Diabetes' 'Diabetes'\\n 'Diabetes' 'Breast Cancer' 'Diabetes' 'Breast Cancer' 'Diabetes'\\n 'Diabetes' 'Breast Cancer' 'Breast Cancer' 'Breast Cancer' 'Diabetes'\\n 'Diabetes' 'Diabetes' 'Diabetes' 'Breast Cancer' 'Diabetes'\\n 'Breast Cancer' 'Diabetes' 'Breast Cancer' 'Diabetes' 'Breast Cancer'\\n 'Breast Cancer' 'Diabetes' 'Breast Cancer' 'Diabetes' 'Diabetes'\\n 'Diabetes' 'Breast Cancer' 'Diabetes' 'Diabetes' 'Breast Cancer'\\n 'Diabetes' 'Diabetes' 'Diabetes' 'Breast Cancer' 'Diabetes' 'Diabetes'\\n 'Breast Cancer' 'Diabetes' 'Breast Cancer' 'Diabetes' 'Diabetes'\\n 'Breast Cancer' 'Breast Cancer' 'Diabetes' 'Diabetes' 'Diabetes'\\n 'Diabetes' 'Diabetes' 'Diabetes' 'Breast Cancer' 'Diabetes'\\n 'Breast Cancer' 'Diabetes' 'Breast Cancer' 'Breast Cancer'\\n 'Breast Cancer' 'Diabetes' 'Diabetes' 'Diabetes' 'Breast Cancer'\\n 'Diabetes' 'Breast Cancer' 'Diabetes' 'Breast Cancer' 'Diabetes'\\n 'Diabetes' 'Diabetes' 'Diabetes' 'Breast Cancer' 'Breast Cancer'\\n 'Breast Cancer' 'Breast Cancer' 'Diabetes' 'Breast Cancer'\\n 'Breast Cancer' 'Breast Cancer' 'Breast Cancer' 'Breast Cancer'\\n 'Breast Cancer' 'Breast Cancer' 'Breast Cancer' 'Breast Cancer'\\n 'Breast Cancer' 'Breast Cancer' 'Breast Cancer' 'Breast Cancer'\\n 'Breast Cancer' 'Breast Cancer' 'Diabetes' 'Diabetes' 'Breast Cancer'\\n 'Diabetes' 'Diabetes' 'Diabetes' 'Diabetes' 'Breast Cancer' 'Diabetes'\\n 'Breast Cancer' 'Diabetes' 'Diabetes' 'Breast Cancer' 'Breast Cancer'\\n 'Diabetes' 'Diabetes' 'Diabetes' 'Diabetes' 'Diabetes' 'Diabetes'\\n 'Diabetes' 'Diabetes' 'Breast Cancer' 'Breast Cancer' 'Diabetes'\\n 'Breast Cancer' 'Diabetes' 'Diabetes' 'Breast Cancer' 'Breast Cancer'\\n 'Diabetes' 'Diabetes' 'Diabetes' 'Breast Cancer' 'Diabetes'\\n 'Breast Cancer' 'Breast Cancer' 'Breast Cancer' 'Diabetes' 'Diabetes'\\n 'Diabetes' 'Diabetes' 'Breast Cancer' 'Breast Cancer' 'Breast Cancer'\\n 'Diabetes' 'Diabetes' 'Diabetes' 'Breast Cancer' 'Diabetes' 'Diabetes'\\n 'Breast Cancer' 'Breast Cancer' 'Diabetes' 'Diabetes' 'Breast Cancer'\\n 'Diabetes' 'Diabetes' 'Diabetes' 'Diabetes' 'Diabetes' 'Diabetes'\\n 'Diabetes' 'Breast Cancer' 'Diabetes' 'Breast Cancer' 'Diabetes'\\n 'Diabetes' 'Breast Cancer' 'Diabetes' 'Diabetes' 'Diabetes' 'Diabetes'\\n 'Breast Cancer' 'Diabetes' 'Breast Cancer' 'Breast Cancer'\\n 'Breast Cancer' 'Diabetes' 'Breast Cancer' 'Diabetes' 'Diabetes'\\n 'Diabetes' 'Diabetes' 'Diabetes' 'Breast Cancer' 'Breast Cancer'\\n 'Diabetes' 'Diabetes' 'Breast Cancer' 'Breast Cancer' 'Diabetes'\\n 'Diabetes' 'Diabetes' 'Breast Cancer' 'Breast Cancer' 'Diabetes'\\n 'Diabetes' 'Diabetes' 'Diabetes' 'Diabetes' 'Diabetes' 'Diabetes'\\n 'Diabetes' 'Diabetes' 'Diabetes' 'Diabetes' 'Diabetes' 'Diabetes'\\n 'Diabetes' 'Diabetes' 'Diabetes' 'Diabetes' 'Breast Cancer'\\n 'Breast Cancer'\""
            ]
          },
          "metadata": {
            "tags": []
          },
          "execution_count": 9
        }
      ]
    },
    {
      "cell_type": "markdown",
      "metadata": {
        "id": "xd9qALt2Tdhl",
        "colab_type": "text"
      },
      "source": [
        "### Generación de la data de entrada"
      ]
    },
    {
      "cell_type": "code",
      "metadata": {
        "id": "pnVQdLfzP7JV",
        "colab_type": "code",
        "colab": {
          "base_uri": "https://localhost:8080/",
          "height": 137
        },
        "outputId": "e3fbcdbb-6c0d-40ee-d756-977555cbf5d6"
      },
      "source": [
        "total_training_set = keyword_train_text + headlines\n",
        "total_training_set"
      ],
      "execution_count": 10,
      "outputs": [
        {
          "output_type": "execute_result",
          "data": {
            "application/vnd.google.colaboratory.intrinsic+json": {
              "type": "string"
            },
            "text/plain": [
              "\"ache,\\naches,\\nachey,\\naching,\\nachy,\\nacl,\\nacne,\\nacupuncture,\\nadvil,\\naleve,\\nallergic,\\nallergies,\\nallergy,\\nankle,\\nantibiotics,\\nanxiety,\\nanxious,\\nappetite,\\nappointment,\\nappt,\\narthritis,\\naspirin,\\nasthma,\\nbackache,\\nbattling,\\nbedtime,\\nbenadryl,\\nbladder,\\nblisters,\\nbody,\\nbreathing,\\nbronchitis,\\nbruised,\\nburning,\\nbypass,\\ncaffeine,\\ncancer,\\nchemo,\\nchest,\\nchronic,\\nclinic,\\nclogged,\\ncodeine,\\ncold,\\ncolds,\\ncoma,\\ncongested,\\ncongestion,\\ncontagious,\\ncough,\\ncoughed,\\ncoughing,\\ncoughs,\\ncramps,\\ncravings,\\ncrutches,\\ncure,\\ncured,\\ndealing,\\ndehydrated,\\ndehydration,\\ndental,\\ndentist,\\ndepression,\\ndiabetes,\\ndiagnosed,\\ndiarrhea,\\ndieting,\\ndizziness,\\ndizzy,\\ndoctor,\\ndoctors,\\ndose,\\ndrained,\\ndrowsy,\\ndrugged,\\near,\\nearache,\\neaten,\\nelbow,\\nemergency,\\nexcedrin,\\nexcruciating,\\nexercise,\\nexhausted,\\nexhaustion,\\nfaint,\\nfatigue,\\nfeelin,\\nfever,\\nfeverish,\\nfevers,\\nflu,\\nfluids,\\nforehead,\\nfreezing,\\ngastric,\\ngerms,\\nglands,\\ngroggy,\\nh1n1,\\nhacking,\\nhayfever,\\nheadache,\\nheadaches,\\nheal,\\nhealed,\\nheartburn,\\nhiccups,\\nhives,\\nhospital,\\nhungover,\\nhurtin,\\nhurting,\\nhurts,\\nibuprofen,\\nick,\\nicky,\\nill,\\nillness,\\ninfected,\\ninfection,\\ninfections,\\ninhaler,\\ninsomnia,\\ninsurance,\\nintense,\\nirritated,\\nitch,\\nitching,\\nitchy,\\njaw,\\nkidney,\\nkilling,\\nknee,\\nlasik,\\nlimping,\\nlump,\\nlung,\\nlungs,\\nmassage,\\nmedication,\\nmedicine,\\nmeds,\\nmigraine,\\nmigraines,\\nmigrane,\\nmild,\\nmiserable,\\nmorphine,\\nmotrin,\\nmri,\\nmuscles,\\nnasal,\\nnausea,\\nnauseous,\\nneck,\\nneedles,\\nnose,\\nnumb,\\nnurse,\\nnyquil,\\nouch,\\npain,\\npainkillers,\\npains,\\npanadol,\\nparacetamol,\\nphysical,\\nphysically,\\npill,\\npills,\\npimples,\\npneumonia,\\npoisoning,\\npollen,\\npounding,\\npounds,\\nprescription,\\npuffy,\\npuke,\\npuking,\\nrash,\\nrecover,\\nrecovered,\\nrecovering,\\nrecovery,\\nrehab,\\nrelieve,\\nremedies,\\nremedy,\\nrespiratory,\\nresting,\\nribs,\\nrunny,\\nscratchy,\\nseasonal,\\nsevere,\\nshivering,\\nsick,\\nsicker,\\nsickness,\\nsinus,\\nsinuses,\\nskull,\\nsneeze,\\nsneezed,\\nsneezing,\\nsniffles,\\nsniffling,\\nsnot,\\nsore,\\nspasms,\\nspine,\\nsplitting,\\nsprain,\\nsteroids,\\nstiff,\\nstomach,\\nstomachache,\\nstomache,\\nstrep,\\nstroke,\\nstuffy,\\nsunburn,\\nsunscreen,\\nsurgeon,\\nsurgery,\\nswelling,\\nswollen,\\nsymptoms,\\ntension,\\nthirsty,\\nthroat,\\nthroats,\\nthrobbing,\\nthyroid,\\ntiredness,\\ntissues,\\ntonsillitis,\\ntonsils,\\ntooth,\\ntoothache,\\ntorn,\\ntreatment,\\ntumor,\\ntylenol,\\nugh,\\nulcer,\\nulcers,\\nunbearable,\\nuncomfortable,\\nunwell,\\nvaccine,\\nveins,\\nvertigo,\\nvicodin,\\nviral,\\nvision,\\nvitamins,\\nvomit,\\nvomiting,\\nwatering,\\nwatery,\\nwheezing,\\nwithdrawal,\\nwoken,\\nwrist,\\nyucky,\\n'Breast Cancer' 'Diabetes' 'Diabetes' 'Diabetes' 'Diabetes'\\n 'Breast Cancer' 'Diabetes' 'Breast Cancer' 'Breast Cancer' 'Diabetes'\\n 'Breast Cancer' 'Diabetes' 'Diabetes' 'Breast Cancer' 'Breast Cancer'\\n 'Breast Cancer' 'Breast Cancer' 'Diabetes' 'Diabetes' 'Diabetes'\\n 'Diabetes' 'Diabetes' 'Diabetes' 'Breast Cancer' 'Diabetes'\\n 'Breast Cancer' 'Diabetes' 'Diabetes' 'Breast Cancer' 'Breast Cancer'\\n 'Breast Cancer' 'Diabetes' 'Diabetes' 'Diabetes' 'Breast Cancer'\\n 'Diabetes' 'Diabetes' 'Breast Cancer' 'Diabetes' 'Breast Cancer'\\n 'Diabetes' 'Breast Cancer' 'Diabetes' 'Diabetes' 'Diabetes' 'Diabetes'\\n 'Diabetes' 'Diabetes' 'Diabetes' 'Diabetes' 'Diabetes' 'Breast Cancer'\\n 'Diabetes' 'Breast Cancer' 'Breast Cancer' 'Diabetes' 'Breast Cancer'\\n 'Diabetes' 'Diabetes' 'Diabetes' 'Diabetes' 'Diabetes' 'Diabetes'\\n 'Diabetes' 'Breast Cancer' 'Diabetes' 'Diabetes' 'Diabetes' 'Diabetes'\\n 'Diabetes' 'Diabetes' 'Diabetes' 'Breast Cancer' 'Breast Cancer'\\n 'Breast Cancer' 'Diabetes' 'Breast Cancer' 'Diabetes' 'Breast Cancer'\\n 'Breast Cancer' 'Diabetes' 'Diabetes' 'Breast Cancer' 'Diabetes'\\n 'Breast Cancer' 'Diabetes' 'Diabetes' 'Breast Cancer' 'Diabetes'\\n 'Diabetes' 'Diabetes' 'Diabetes' 'Breast Cancer' 'Breast Cancer'\\n 'Breast Cancer' 'Diabetes' 'Diabetes' 'Diabetes' 'Diabetes'\\n 'Breast Cancer' 'Diabetes' 'Diabetes' 'Breast Cancer' 'Breast Cancer'\\n 'Diabetes' 'Diabetes' 'Breast Cancer' 'Diabetes' 'Diabetes' 'Diabetes'\\n 'Diabetes' 'Diabetes' 'Diabetes' 'Diabetes' 'Diabetes' 'Breast Cancer'\\n 'Diabetes' 'Diabetes' 'Diabetes' 'Breast Cancer' 'Diabetes' 'Diabetes'\\n 'Breast Cancer' 'Diabetes' 'Breast Cancer' 'Breast Cancer' 'Diabetes'\\n 'Diabetes' 'Diabetes' 'Breast Cancer' 'Breast Cancer' 'Diabetes'\\n 'Diabetes' 'Diabetes' 'Diabetes' 'Diabetes' 'Diabetes' 'Diabetes'\\n 'Diabetes' 'Breast Cancer' 'Diabetes' 'Breast Cancer' 'Diabetes'\\n 'Diabetes' 'Diabetes' 'Diabetes' 'Breast Cancer' 'Diabetes' 'Diabetes'\\n 'Diabetes' 'Diabetes' 'Diabetes' 'Diabetes' 'Diabetes' 'Breast Cancer'\\n 'Diabetes' 'Diabetes' 'Breast Cancer' 'Diabetes' 'Diabetes' 'Diabetes'\\n 'Breast Cancer' 'Diabetes' 'Breast Cancer' 'Diabetes' 'Diabetes'\\n 'Breast Cancer' 'Breast Cancer' 'Diabetes' 'Diabetes' 'Diabetes'\\n 'Diabetes' 'Diabetes' 'Breast Cancer' 'Diabetes' 'Diabetes'\\n 'Breast Cancer' 'Breast Cancer' 'Breast Cancer' 'Breast Cancer'\\n 'Diabetes' 'Diabetes' 'Diabetes' 'Diabetes' 'Diabetes' 'Breast Cancer'\\n 'Diabetes' 'Breast Cancer' 'Diabetes' 'Breast Cancer' 'Breast Cancer'\\n 'Breast Cancer' 'Diabetes' 'Breast Cancer' 'Diabetes' 'Breast Cancer'\\n 'Diabetes' 'Breast Cancer' 'Breast Cancer' 'Breast Cancer'\\n 'Breast Cancer' 'Diabetes' 'Diabetes' 'Breast Cancer' 'Diabetes'\\n 'Breast Cancer' 'Diabetes' 'Diabetes' 'Breast Cancer' 'Breast Cancer'\\n 'Diabetes' 'Diabetes' 'Diabetes' 'Diabetes' 'Diabetes' 'Diabetes'\\n 'Diabetes' 'Breast Cancer' 'Diabetes' 'Diabetes' 'Diabetes' 'Diabetes'\\n 'Breast Cancer' 'Diabetes' 'Diabetes' 'Breast Cancer' 'Breast Cancer'\\n 'Diabetes' 'Diabetes' 'Breast Cancer' 'Diabetes' 'Diabetes'\\n 'Breast Cancer' 'Breast Cancer' 'Breast Cancer' 'Diabetes' 'Diabetes'\\n 'Breast Cancer' 'Breast Cancer' 'Diabetes' 'Breast Cancer'\\n 'Breast Cancer' 'Breast Cancer' 'Breast Cancer' 'Diabetes'\\n 'Breast Cancer' 'Diabetes' 'Diabetes' 'Diabetes' 'Breast Cancer'\\n 'Breast Cancer' 'Diabetes' 'Diabetes' 'Diabetes' 'Diabetes'\\n 'Breast Cancer' 'Breast Cancer' 'Diabetes' 'Diabetes' 'Breast Cancer'\\n 'Diabetes' 'Diabetes' 'Diabetes' 'Breast Cancer' 'Breast Cancer'\\n 'Diabetes' 'Breast Cancer' 'Breast Cancer' 'Diabetes' 'Diabetes'\\n 'Diabetes' 'Diabetes' 'Diabetes' 'Diabetes' 'Diabetes' 'Breast Cancer'\\n 'Diabetes' 'Breast Cancer' 'Breast Cancer' 'Diabetes' 'Breast Cancer'\\n 'Diabetes' 'Breast Cancer' 'Diabetes' 'Diabetes' 'Diabetes' 'Diabetes'\\n 'Diabetes' 'Breast Cancer' 'Diabetes' 'Breast Cancer' 'Diabetes'\\n 'Breast Cancer' 'Diabetes' 'Diabetes' 'Diabetes' 'Diabetes' 'Diabetes'\\n 'Diabetes' 'Diabetes' 'Breast Cancer' 'Breast Cancer' 'Diabetes'\\n 'Diabetes' 'Breast Cancer' 'Diabetes' 'Breast Cancer' 'Breast Cancer'\\n 'Diabetes' 'Breast Cancer' 'Diabetes' 'Diabetes' 'Diabetes' 'Diabetes'\\n 'Breast Cancer' 'Diabetes' 'Diabetes' 'Diabetes' 'Diabetes'\\n 'Breast Cancer' 'Diabetes' 'Breast Cancer' 'Breast Cancer' 'Diabetes'\\n 'Diabetes' 'Diabetes' 'Diabetes' 'Diabetes' 'Diabetes' 'Diabetes'\\n 'Breast Cancer' 'Breast Cancer' 'Diabetes' 'Diabetes' 'Breast Cancer'\\n 'Diabetes' 'Breast Cancer' 'Breast Cancer' 'Diabetes' 'Diabetes'\\n 'Diabetes' 'Breast Cancer' 'Diabetes' 'Breast Cancer' 'Breast Cancer'\\n 'Diabetes' 'Diabetes' 'Diabetes' 'Diabetes' 'Diabetes' 'Breast Cancer'\\n 'Breast Cancer' 'Breast Cancer' 'Diabetes' 'Diabetes' 'Diabetes'\\n 'Breast Cancer' 'Diabetes' 'Breast Cancer' 'Diabetes' 'Diabetes'\\n 'Diabetes' 'Breast Cancer' 'Diabetes' 'Breast Cancer' 'Diabetes'\\n 'Diabetes' 'Breast Cancer' 'Breast Cancer' 'Breast Cancer' 'Diabetes'\\n 'Diabetes' 'Diabetes' 'Diabetes' 'Breast Cancer' 'Diabetes'\\n 'Breast Cancer' 'Diabetes' 'Breast Cancer' 'Diabetes' 'Breast Cancer'\\n 'Breast Cancer' 'Diabetes' 'Breast Cancer' 'Diabetes' 'Diabetes'\\n 'Diabetes' 'Breast Cancer' 'Diabetes' 'Diabetes' 'Breast Cancer'\\n 'Diabetes' 'Diabetes' 'Diabetes' 'Breast Cancer' 'Diabetes' 'Diabetes'\\n 'Breast Cancer' 'Diabetes' 'Breast Cancer' 'Diabetes' 'Diabetes'\\n 'Breast Cancer' 'Breast Cancer' 'Diabetes' 'Diabetes' 'Diabetes'\\n 'Diabetes' 'Diabetes' 'Diabetes' 'Breast Cancer' 'Diabetes'\\n 'Breast Cancer' 'Diabetes' 'Breast Cancer' 'Breast Cancer'\\n 'Breast Cancer' 'Diabetes' 'Diabetes' 'Diabetes' 'Breast Cancer'\\n 'Diabetes' 'Breast Cancer' 'Diabetes' 'Breast Cancer' 'Diabetes'\\n 'Diabetes' 'Diabetes' 'Diabetes' 'Breast Cancer' 'Breast Cancer'\\n 'Breast Cancer' 'Breast Cancer' 'Diabetes' 'Breast Cancer'\\n 'Breast Cancer' 'Breast Cancer' 'Breast Cancer' 'Breast Cancer'\\n 'Breast Cancer' 'Breast Cancer' 'Breast Cancer' 'Breast Cancer'\\n 'Breast Cancer' 'Breast Cancer' 'Breast Cancer' 'Breast Cancer'\\n 'Breast Cancer' 'Breast Cancer' 'Diabetes' 'Diabetes' 'Breast Cancer'\\n 'Diabetes' 'Diabetes' 'Diabetes' 'Diabetes' 'Breast Cancer' 'Diabetes'\\n 'Breast Cancer' 'Diabetes' 'Diabetes' 'Breast Cancer' 'Breast Cancer'\\n 'Diabetes' 'Diabetes' 'Diabetes' 'Diabetes' 'Diabetes' 'Diabetes'\\n 'Diabetes' 'Diabetes' 'Breast Cancer' 'Breast Cancer' 'Diabetes'\\n 'Breast Cancer' 'Diabetes' 'Diabetes' 'Breast Cancer' 'Breast Cancer'\\n 'Diabetes' 'Diabetes' 'Diabetes' 'Breast Cancer' 'Diabetes'\\n 'Breast Cancer' 'Breast Cancer' 'Breast Cancer' 'Diabetes' 'Diabetes'\\n 'Diabetes' 'Diabetes' 'Breast Cancer' 'Breast Cancer' 'Breast Cancer'\\n 'Diabetes' 'Diabetes' 'Diabetes' 'Breast Cancer' 'Diabetes' 'Diabetes'\\n 'Breast Cancer' 'Breast Cancer' 'Diabetes' 'Diabetes' 'Breast Cancer'\\n 'Diabetes' 'Diabetes' 'Diabetes' 'Diabetes' 'Diabetes' 'Diabetes'\\n 'Diabetes' 'Breast Cancer' 'Diabetes' 'Breast Cancer' 'Diabetes'\\n 'Diabetes' 'Breast Cancer' 'Diabetes' 'Diabetes' 'Diabetes' 'Diabetes'\\n 'Breast Cancer' 'Diabetes' 'Breast Cancer' 'Breast Cancer'\\n 'Breast Cancer' 'Diabetes' 'Breast Cancer' 'Diabetes' 'Diabetes'\\n 'Diabetes' 'Diabetes' 'Diabetes' 'Breast Cancer' 'Breast Cancer'\\n 'Diabetes' 'Diabetes' 'Breast Cancer' 'Breast Cancer' 'Diabetes'\\n 'Diabetes' 'Diabetes' 'Breast Cancer' 'Breast Cancer' 'Diabetes'\\n 'Diabetes' 'Diabetes' 'Diabetes' 'Diabetes' 'Diabetes' 'Diabetes'\\n 'Diabetes' 'Diabetes' 'Diabetes' 'Diabetes' 'Diabetes' 'Diabetes'\\n 'Diabetes' 'Diabetes' 'Diabetes' 'Diabetes' 'Breast Cancer'\\n 'Breast Cancer'\""
            ]
          },
          "metadata": {
            "tags": []
          },
          "execution_count": 10
        }
      ]
    },
    {
      "cell_type": "markdown",
      "metadata": {
        "id": "DScHVzrqRIoK",
        "colab_type": "text"
      },
      "source": [
        "## Procesamiento del Texto"
      ]
    },
    {
      "cell_type": "markdown",
      "metadata": {
        "id": "3X7YshcZY7aq",
        "colab_type": "text"
      },
      "source": [
        "Después de tener todo el dataset cargado en el notebook y disponible como total_training_set, se debe de procesar para tener como resultado un mapping que permita representar cada caracter en una secuencia de caracteres (string) como un escalar positivo y viceversa, de tal forma que el modelo pueda recibir y procesar la input data del texto y asi mismo representar el output que genere posteriormente y, también, tener nuestro input en forma numérica para nuestro modelo. "
      ]
    },
    {
      "cell_type": "markdown",
      "metadata": {
        "id": "VB0xt6nkT1BW",
        "colab_type": "text"
      },
      "source": [
        "### Vectorización del texto"
      ]
    },
    {
      "cell_type": "code",
      "metadata": {
        "id": "9_zAnwn0oxfT",
        "colab_type": "code",
        "colab": {
          "base_uri": "https://localhost:8080/",
          "height": 34
        },
        "outputId": "c808bfc9-c02d-46ee-8323-acba4b4ec49a"
      },
      "source": [
        "vocab = sorted(set(total_training_set))\n",
        "print('{} unique characters'.format(len(vocab)))"
      ],
      "execution_count": 11,
      "outputs": [
        {
          "output_type": "stream",
          "text": [
            "34 unique characters\n"
          ],
          "name": "stdout"
        }
      ]
    },
    {
      "cell_type": "code",
      "metadata": {
        "id": "Sqn8MusBpG1_",
        "colab_type": "code",
        "colab": {}
      },
      "source": [
        "char2idx = {u:i for i, u in enumerate(vocab)} #Mapping de caracteres a números\n",
        "idx2char = np.array(vocab) #Mapping de números a caracteres\n",
        "\n",
        "text_as_int = np.array([char2idx[c] for c in text])"
      ],
      "execution_count": 12,
      "outputs": []
    },
    {
      "cell_type": "code",
      "metadata": {
        "id": "pkF1J-YqpPnu",
        "colab_type": "code",
        "colab": {
          "base_uri": "https://localhost:8080/",
          "height": 408
        },
        "outputId": "55b29036-eee3-4147-dbab-9b945f7c23a6"
      },
      "source": [
        "print('{')\n",
        "for char,_ in zip(char2idx, range(20)):\n",
        "    print('  {:4s}: {:3d},'.format(repr(char), char2idx[char]))\n",
        "print('  ...\\n}')"
      ],
      "execution_count": 13,
      "outputs": [
        {
          "output_type": "stream",
          "text": [
            "{\n",
            "  '\\n':   0,\n",
            "  ' ' :   1,\n",
            "  \"'\" :   2,\n",
            "  ',' :   3,\n",
            "  '1' :   4,\n",
            "  'B' :   5,\n",
            "  'C' :   6,\n",
            "  'D' :   7,\n",
            "  'a' :   8,\n",
            "  'b' :   9,\n",
            "  'c' :  10,\n",
            "  'd' :  11,\n",
            "  'e' :  12,\n",
            "  'f' :  13,\n",
            "  'g' :  14,\n",
            "  'h' :  15,\n",
            "  'i' :  16,\n",
            "  'j' :  17,\n",
            "  'k' :  18,\n",
            "  'l' :  19,\n",
            "  ...\n",
            "}\n"
          ],
          "name": "stdout"
        }
      ]
    },
    {
      "cell_type": "code",
      "metadata": {
        "id": "jTK8TElHpXn0",
        "colab_type": "code",
        "colab": {
          "base_uri": "https://localhost:8080/",
          "height": 34
        },
        "outputId": "61a2f0f2-c02b-4cd8-94cd-57501ae7f26c"
      },
      "source": [
        "print ('{} ---- characters mapped to int ---- > {}'.format(repr(text[:13]), text_as_int[:13]))"
      ],
      "execution_count": 14,
      "outputs": [
        {
          "output_type": "stream",
          "text": [
            "'ache,\\naches,\\n' ---- characters mapped to int ---- > [ 8 10 15 12  3  0  8 10 15 12 26  3  0]\n"
          ],
          "name": "stdout"
        }
      ]
    },
    {
      "cell_type": "markdown",
      "metadata": {
        "id": "eiIjpHK7UDI4",
        "colab_type": "text"
      },
      "source": [
        "### Creación de los ejemplos de entrenamiento y los targets"
      ]
    },
    {
      "cell_type": "code",
      "metadata": {
        "id": "K0uHuSa7pbMQ",
        "colab_type": "code",
        "colab": {}
      },
      "source": [
        "seq_length = 20 #Se cambió a un valor de 20 ya que el dataset es de nombres de enfermedades o condiciones físicas que no superan dicha cantidad de caracteres \n",
        "examples_per_epoch = len(text)//(seq_length+1)"
      ],
      "execution_count": 15,
      "outputs": []
    },
    {
      "cell_type": "code",
      "metadata": {
        "id": "d8NpPkB-pkyT",
        "colab_type": "code",
        "colab": {}
      },
      "source": [
        "char_dataset = tf.data.Dataset.from_tensor_slices(text_as_int)"
      ],
      "execution_count": 16,
      "outputs": []
    },
    {
      "cell_type": "code",
      "metadata": {
        "id": "tQVA3Z4bpnhE",
        "colab_type": "code",
        "colab": {
          "base_uri": "https://localhost:8080/",
          "height": 102
        },
        "outputId": "adf17e4b-d0c0-49b7-a6fb-52aa2ea5b1ba"
      },
      "source": [
        "for i in char_dataset.take(5):\n",
        "  print(idx2char[i.numpy()])"
      ],
      "execution_count": 17,
      "outputs": [
        {
          "output_type": "stream",
          "text": [
            "a\n",
            "c\n",
            "h\n",
            "e\n",
            ",\n"
          ],
          "name": "stdout"
        }
      ]
    },
    {
      "cell_type": "code",
      "metadata": {
        "id": "i7O9JDCYpqGs",
        "colab_type": "code",
        "colab": {
          "base_uri": "https://localhost:8080/",
          "height": 102
        },
        "outputId": "b8ccf270-6a79-40f8-f785-a4bb2edd39fb"
      },
      "source": [
        "sequences = char_dataset.batch(seq_length+1, drop_remainder=True)\n",
        "\n",
        "for item in sequences.take(5):\n",
        "  print(repr(''.join(idx2char[item.numpy()])))"
      ],
      "execution_count": 18,
      "outputs": [
        {
          "output_type": "stream",
          "text": [
            "'ache,\\naches,\\nachey,\\na'\n",
            "'ching,\\nachy,\\nacl,\\nacn'\n",
            "'e,\\nacupuncture,\\nadvil'\n",
            "',\\naleve,\\nallergic,\\nal'\n",
            "'lergies,\\nallergy,\\nank'\n"
          ],
          "name": "stdout"
        }
      ]
    },
    {
      "cell_type": "code",
      "metadata": {
        "id": "l7WMGaDYpxia",
        "colab_type": "code",
        "colab": {}
      },
      "source": [
        "def split_input_target(chunk):\n",
        "  input_text = chunk[:-1]\n",
        "  target_text = chunk[1:]\n",
        "  return input_text, target_text\n",
        "\n",
        "dataset = sequences.map(split_input_target)"
      ],
      "execution_count": 19,
      "outputs": []
    },
    {
      "cell_type": "code",
      "metadata": {
        "id": "sIGkHa6Bp0O1",
        "colab_type": "code",
        "colab": {
          "base_uri": "https://localhost:8080/",
          "height": 51
        },
        "outputId": "ae8f3180-7b7f-4730-8f49-46a9a9632313"
      },
      "source": [
        "for input_example, target_example in  dataset.take(1): # Probamos si la vectorización del input funciona adecuadamente tanto individualmente como un batch del input + target\n",
        "  #input_example.shape\n",
        "  print ('Input data: ', repr(''.join(idx2char[input_example.numpy()])))\n",
        "  print ('Target data:', repr(''.join(idx2char[target_example.numpy()])))"
      ],
      "execution_count": 20,
      "outputs": [
        {
          "output_type": "stream",
          "text": [
            "Input data:  'ache,\\naches,\\nachey,\\n'\n",
            "Target data: 'che,\\naches,\\nachey,\\na'\n"
          ],
          "name": "stdout"
        }
      ]
    },
    {
      "cell_type": "code",
      "metadata": {
        "id": "339-lWudp6z6",
        "colab_type": "code",
        "colab": {
          "base_uri": "https://localhost:8080/",
          "height": 272
        },
        "outputId": "e8ffbb51-e5d3-4813-ed7b-b465661b8de4"
      },
      "source": [
        "for i, (input_idx, target_idx) in enumerate(zip(input_example[:5], target_example[:5])): \n",
        "  print(\"Step {:4d}\".format(i))\n",
        "  print(\"  input: {} ({:s})\".format(input_idx, repr(idx2char[input_idx])))\n",
        "  print(\"  expected output: {} ({:s})\".format(target_idx, repr(idx2char[target_idx])))"
      ],
      "execution_count": 21,
      "outputs": [
        {
          "output_type": "stream",
          "text": [
            "Step    0\n",
            "  input: 8 ('a')\n",
            "  expected output: 10 ('c')\n",
            "Step    1\n",
            "  input: 10 ('c')\n",
            "  expected output: 15 ('h')\n",
            "Step    2\n",
            "  input: 15 ('h')\n",
            "  expected output: 12 ('e')\n",
            "Step    3\n",
            "  input: 12 ('e')\n",
            "  expected output: 3 (',')\n",
            "Step    4\n",
            "  input: 3 (',')\n",
            "  expected output: 0 ('\\n')\n"
          ],
          "name": "stdout"
        }
      ]
    },
    {
      "cell_type": "markdown",
      "metadata": {
        "id": "ZTX8Ui9WRhXX",
        "colab_type": "text"
      },
      "source": [
        "## Creación de batches para el entrenamiento"
      ]
    },
    {
      "cell_type": "code",
      "metadata": {
        "id": "QHlYpgysp9PL",
        "colab_type": "code",
        "colab": {
          "base_uri": "https://localhost:8080/",
          "height": 34
        },
        "outputId": "d9a5b8be-6203-438b-c82b-52ad90a6e575"
      },
      "source": [
        "BATCH_SIZE = 64\n",
        "\n",
        "BUFFER_SIZE = 10000\n",
        "\n",
        "dataset = dataset.shuffle(BUFFER_SIZE).batch(BATCH_SIZE, drop_remainder=True)\n",
        "\n",
        "dataset"
      ],
      "execution_count": 22,
      "outputs": [
        {
          "output_type": "execute_result",
          "data": {
            "text/plain": [
              "<BatchDataset shapes: ((64, 20), (64, 20)), types: (tf.int64, tf.int64)>"
            ]
          },
          "metadata": {
            "tags": []
          },
          "execution_count": 22
        }
      ]
    },
    {
      "cell_type": "markdown",
      "metadata": {
        "id": "5nqEfJ7iRsBY",
        "colab_type": "text"
      },
      "source": [
        "## Creación del modelo"
      ]
    },
    {
      "cell_type": "code",
      "metadata": {
        "id": "Rjhz832JqHnm",
        "colab_type": "code",
        "colab": {}
      },
      "source": [
        "vocab_size = len(vocab)\n",
        "\n",
        "embedding_dim = 256\n",
        "\n",
        "rnn_units = 1024"
      ],
      "execution_count": 98,
      "outputs": []
    },
    {
      "cell_type": "code",
      "metadata": {
        "id": "VyNBj0RvqLnj",
        "colab_type": "code",
        "colab": {}
      },
      "source": [
        "def build_model(vocab_size, embedding_dim, rnn_units, batch_size):\n",
        "  model = tf.keras.Sequential([\n",
        "    tf.keras.layers.Embedding(vocab_size, embedding_dim,\n",
        "                              batch_input_shape=[batch_size, None]), # capa de entrada que toma el input representado numericamente en escalares y los mapea a un vector. \n",
        "    tf.keras.layers.GRU(rnn_units,\n",
        "                        return_sequences=True,\n",
        "                        stateful=True,\n",
        "                        recurrent_initializer='glorot_uniform'), # se implementa un gated recurrent unit (GRU) en este modelo\n",
        "    tf.keras.layers.Dense(vocab_size) # capa de salida del modelo\n",
        "  ])\n",
        "  return model"
      ],
      "execution_count": 145,
      "outputs": []
    },
    {
      "cell_type": "code",
      "metadata": {
        "id": "0PsrZ4XTqP_N",
        "colab_type": "code",
        "colab": {
          "base_uri": "https://localhost:8080/",
          "height": 428
        },
        "outputId": "e7732bf2-2f53-42a0-816e-8c0101754332"
      },
      "source": [
        "model = build_model(\n",
        "    vocab_size = len(vocab),\n",
        "    embedding_dim=embedding_dim,\n",
        "    rnn_units=rnn_units,\n",
        "    batch_size=BATCH_SIZE)"
      ],
      "execution_count": 146,
      "outputs": [
        {
          "output_type": "stream",
          "text": [
            "WARNING:tensorflow:Unresolved object in checkpoint: (root).optimizer\n",
            "WARNING:tensorflow:Unresolved object in checkpoint: (root).optimizer.iter\n",
            "WARNING:tensorflow:Unresolved object in checkpoint: (root).optimizer.beta_1\n",
            "WARNING:tensorflow:Unresolved object in checkpoint: (root).optimizer.beta_2\n",
            "WARNING:tensorflow:Unresolved object in checkpoint: (root).optimizer.decay\n",
            "WARNING:tensorflow:Unresolved object in checkpoint: (root).optimizer.learning_rate\n",
            "WARNING:tensorflow:Unresolved object in checkpoint: (root).optimizer's state 'm' for (root).layer_with_weights-0.embeddings\n",
            "WARNING:tensorflow:Unresolved object in checkpoint: (root).optimizer's state 'm' for (root).layer_with_weights-1.gamma\n",
            "WARNING:tensorflow:Unresolved object in checkpoint: (root).optimizer's state 'm' for (root).layer_with_weights-1.beta\n",
            "WARNING:tensorflow:Unresolved object in checkpoint: (root).optimizer's state 'm' for (root).layer_with_weights-3.kernel\n",
            "WARNING:tensorflow:Unresolved object in checkpoint: (root).optimizer's state 'm' for (root).layer_with_weights-3.bias\n",
            "WARNING:tensorflow:Unresolved object in checkpoint: (root).optimizer's state 'm' for (root).layer_with_weights-2.cell.kernel\n",
            "WARNING:tensorflow:Unresolved object in checkpoint: (root).optimizer's state 'm' for (root).layer_with_weights-2.cell.recurrent_kernel\n",
            "WARNING:tensorflow:Unresolved object in checkpoint: (root).optimizer's state 'm' for (root).layer_with_weights-2.cell.bias\n",
            "WARNING:tensorflow:Unresolved object in checkpoint: (root).optimizer's state 'v' for (root).layer_with_weights-0.embeddings\n",
            "WARNING:tensorflow:Unresolved object in checkpoint: (root).optimizer's state 'v' for (root).layer_with_weights-1.gamma\n",
            "WARNING:tensorflow:Unresolved object in checkpoint: (root).optimizer's state 'v' for (root).layer_with_weights-1.beta\n",
            "WARNING:tensorflow:Unresolved object in checkpoint: (root).optimizer's state 'v' for (root).layer_with_weights-3.kernel\n",
            "WARNING:tensorflow:Unresolved object in checkpoint: (root).optimizer's state 'v' for (root).layer_with_weights-3.bias\n",
            "WARNING:tensorflow:Unresolved object in checkpoint: (root).optimizer's state 'v' for (root).layer_with_weights-2.cell.kernel\n",
            "WARNING:tensorflow:Unresolved object in checkpoint: (root).optimizer's state 'v' for (root).layer_with_weights-2.cell.recurrent_kernel\n",
            "WARNING:tensorflow:Unresolved object in checkpoint: (root).optimizer's state 'v' for (root).layer_with_weights-2.cell.bias\n",
            "WARNING:tensorflow:A checkpoint was restored (e.g. tf.train.Checkpoint.restore or tf.keras.Model.load_weights) but not all checkpointed values were used. See above for specific issues. Use expect_partial() on the load status object, e.g. tf.train.Checkpoint.restore(...).expect_partial(), to silence these warnings, or use assert_consumed() to make the check explicit. See https://www.tensorflow.org/guide/checkpoint#loading_mechanics for details.\n"
          ],
          "name": "stdout"
        }
      ]
    },
    {
      "cell_type": "code",
      "metadata": {
        "id": "LiSfQ_PXtBpa",
        "colab_type": "code",
        "colab": {
          "base_uri": "https://localhost:8080/",
          "height": 255
        },
        "outputId": "d0160751-4887-4862-d17a-9921460c436a"
      },
      "source": [
        "model.summary()"
      ],
      "execution_count": 147,
      "outputs": [
        {
          "output_type": "stream",
          "text": [
            "Model: \"sequential_10\"\n",
            "_________________________________________________________________\n",
            "Layer (type)                 Output Shape              Param #   \n",
            "=================================================================\n",
            "embedding_10 (Embedding)     (64, None, 256)           8704      \n",
            "_________________________________________________________________\n",
            "gru_10 (GRU)                 (64, None, 1024)          3938304   \n",
            "_________________________________________________________________\n",
            "dense_10 (Dense)             (64, None, 34)            34850     \n",
            "=================================================================\n",
            "Total params: 3,981,858\n",
            "Trainable params: 3,981,858\n",
            "Non-trainable params: 0\n",
            "_________________________________________________________________\n"
          ],
          "name": "stdout"
        }
      ]
    },
    {
      "cell_type": "markdown",
      "metadata": {
        "id": "ce9oq7bjR3Xz",
        "colab_type": "text"
      },
      "source": [
        "## Prueba del modelo"
      ]
    },
    {
      "cell_type": "markdown",
      "metadata": {
        "id": "oYdNyhviXP1v",
        "colab_type": "text"
      },
      "source": [
        "Se hace una prueba del modelo antes de ser entrenado para comprobar que toma el input y genera su respectiva predicción adecuadamente."
      ]
    },
    {
      "cell_type": "code",
      "metadata": {
        "id": "RzsQ-tqovU3W",
        "colab_type": "code",
        "colab": {
          "base_uri": "https://localhost:8080/",
          "height": 0
        },
        "outputId": "80a7b4d9-e56d-46b0-e355-57721ad6fabd"
      },
      "source": [
        "dataset.take(1)"
      ],
      "execution_count": 148,
      "outputs": [
        {
          "output_type": "execute_result",
          "data": {
            "text/plain": [
              "<TakeDataset shapes: ((64, 20), (64, 20)), types: (tf.int64, tf.int64)>"
            ]
          },
          "metadata": {
            "tags": []
          },
          "execution_count": 148
        }
      ]
    },
    {
      "cell_type": "code",
      "metadata": {
        "id": "s0qMLUfzqUTr",
        "colab_type": "code",
        "colab": {
          "base_uri": "https://localhost:8080/",
          "height": 0
        },
        "outputId": "d231ec33-4e4c-49b0-b998-d49bc2a96253"
      },
      "source": [
        "for input_example_batch, target_example_batch in dataset.take(1):\n",
        "  example_batch_predictions = model(input_example_batch)\n",
        "  print(example_batch_predictions.shape, \"# (batch_size, sequence_length, vocab_size)\")"
      ],
      "execution_count": 149,
      "outputs": [
        {
          "output_type": "stream",
          "text": [
            "(64, 20, 34) # (batch_size, sequence_length, vocab_size)\n"
          ],
          "name": "stdout"
        }
      ]
    },
    {
      "cell_type": "code",
      "metadata": {
        "id": "whMH7afLtgPQ",
        "colab_type": "code",
        "colab": {
          "base_uri": "https://localhost:8080/",
          "height": 0
        },
        "outputId": "d81ea051-6593-446d-d3a6-45ffe1799d47"
      },
      "source": [
        "input_example_batch.shape"
      ],
      "execution_count": 150,
      "outputs": [
        {
          "output_type": "execute_result",
          "data": {
            "text/plain": [
              "TensorShape([64, 20])"
            ]
          },
          "metadata": {
            "tags": []
          },
          "execution_count": 150
        }
      ]
    },
    {
      "cell_type": "code",
      "metadata": {
        "id": "6TK9iu69tobt",
        "colab_type": "code",
        "colab": {
          "base_uri": "https://localhost:8080/",
          "height": 0
        },
        "outputId": "e9ad100d-b045-44d6-a50a-4b93d3bb0cb9"
      },
      "source": [
        "idx2char"
      ],
      "execution_count": 151,
      "outputs": [
        {
          "output_type": "execute_result",
          "data": {
            "text/plain": [
              "array(['\\n', ' ', \"'\", ',', '1', 'B', 'C', 'D', 'a', 'b', 'c', 'd', 'e',\n",
              "       'f', 'g', 'h', 'i', 'j', 'k', 'l', 'm', 'n', 'o', 'p', 'q', 'r',\n",
              "       's', 't', 'u', 'v', 'w', 'x', 'y', 'z'], dtype='<U1')"
            ]
          },
          "metadata": {
            "tags": []
          },
          "execution_count": 151
        }
      ]
    },
    {
      "cell_type": "code",
      "metadata": {
        "id": "a4bUleeiwK3a",
        "colab_type": "code",
        "colab": {
          "base_uri": "https://localhost:8080/",
          "height": 0
        },
        "outputId": "363b7598-d16d-4d42-9c5e-dc2bfe432c1b"
      },
      "source": [
        "input_example_batch"
      ],
      "execution_count": 152,
      "outputs": [
        {
          "output_type": "execute_result",
          "data": {
            "text/plain": [
              "<tf.Tensor: shape=(64, 20), dtype=int64, numpy=\n",
              "array([[19, 19, 16, ..., 32, 20, 23],\n",
              "       [ 3,  0, 23, ..., 12, 10, 22],\n",
              "       [18,  3,  0, ...,  0, 21, 28],\n",
              "       ...,\n",
              "       [21, 12, 12, ...,  3,  0, 26],\n",
              "       [ 3,  0, 23, ..., 21, 16,  8],\n",
              "       [ 3,  0, 13, ...,  3,  0, 13]])>"
            ]
          },
          "metadata": {
            "tags": []
          },
          "execution_count": 152
        }
      ]
    },
    {
      "cell_type": "code",
      "metadata": {
        "id": "2TtDmiQWqaUx",
        "colab_type": "code",
        "colab": {}
      },
      "source": [
        "sampled_indices = tf.random.categorical(example_batch_predictions[0], num_samples=1)\n",
        "sampled_indices = tf.squeeze(sampled_indices,axis=-1).numpy()"
      ],
      "execution_count": 153,
      "outputs": []
    },
    {
      "cell_type": "code",
      "metadata": {
        "id": "6BF1ehYXqevV",
        "colab_type": "code",
        "colab": {
          "base_uri": "https://localhost:8080/",
          "height": 0
        },
        "outputId": "3bd658f2-c626-4226-ef47-1e1c63026944"
      },
      "source": [
        "sampled_indices"
      ],
      "execution_count": 154,
      "outputs": [
        {
          "output_type": "execute_result",
          "data": {
            "text/plain": [
              "array([15, 15, 20,  2,  4, 13, 33, 10,  8, 27, 26,  2,  2, 13,  0,  5, 23,\n",
              "        8, 31, 13])"
            ]
          },
          "metadata": {
            "tags": []
          },
          "execution_count": 154
        }
      ]
    },
    {
      "cell_type": "code",
      "metadata": {
        "id": "KHskHfirqkSn",
        "colab_type": "code",
        "colab": {
          "base_uri": "https://localhost:8080/",
          "height": 0
        },
        "outputId": "4d8f5089-7e02-4ac8-b74d-57cd675a02ef"
      },
      "source": [
        "print(\"Input: \\n\", repr(\"\".join(idx2char[input_example_batch[0].numpy()])))\n",
        "print()\n",
        "print(\"Next Char Predictions: \\n\", repr(\"\".join(idx2char[sampled_indices])))"
      ],
      "execution_count": 155,
      "outputs": [
        {
          "output_type": "stream",
          "text": [
            "Input: \n",
            " 'lling,\\nswollen,\\nsymp'\n",
            "\n",
            "Next Char Predictions: \n",
            " \"hhm'1fzcats''f\\nBpaxf\"\n"
          ],
          "name": "stdout"
        }
      ]
    },
    {
      "cell_type": "markdown",
      "metadata": {
        "id": "T5kVzwYRR9j1",
        "colab_type": "text"
      },
      "source": [
        "## Entrenamiento del modelo"
      ]
    },
    {
      "cell_type": "markdown",
      "metadata": {
        "id": "NexvQHkiXbZ8",
        "colab_type": "text"
      },
      "source": [
        "Se entrena el modelo tomando en cuenta que se implementó lo siguiente: \n",
        "- loss: sparse categorical cros-entropy. \n",
        "- tamaño del batch: 64 ejemplos de entrenamiento (training samples). \n",
        "- optimizador: adam.\n",
        "- número de epochs: 100. "
      ]
    },
    {
      "cell_type": "code",
      "metadata": {
        "id": "KNG7KMpW5uVc",
        "colab_type": "code",
        "colab": {
          "base_uri": "https://localhost:8080/",
          "height": 51
        },
        "outputId": "36a72440-5417-4256-bdbf-fd1739f717ea"
      },
      "source": [
        "def loss(labels, logits):\n",
        "  return tf.keras.losses.sparse_categorical_crossentropy(labels, logits, from_logits=True)\n",
        "\n",
        "example_batch_loss  = loss(target_example_batch, example_batch_predictions)\n",
        "print(\"Prediction shape: \", example_batch_predictions.shape, \" # (batch_size, sequence_length, vocab_size)\")\n",
        "print(\"scalar_loss:      \", example_batch_loss.numpy().mean())\n"
      ],
      "execution_count": 156,
      "outputs": [
        {
          "output_type": "stream",
          "text": [
            "Prediction shape:  (64, 20, 34)  # (batch_size, sequence_length, vocab_size)\n",
            "scalar_loss:       3.5264924\n"
          ],
          "name": "stdout"
        }
      ]
    },
    {
      "cell_type": "code",
      "metadata": {
        "id": "mfyBnIDv5y_6",
        "colab_type": "code",
        "colab": {}
      },
      "source": [
        "model.compile(optimizer='adam', loss=loss)"
      ],
      "execution_count": 157,
      "outputs": []
    },
    {
      "cell_type": "code",
      "metadata": {
        "id": "U6-AqJOs5585",
        "colab_type": "code",
        "colab": {}
      },
      "source": [
        "# Directory where the checkpoints will be saved\n",
        "checkpoint_dir = './training_checkpoints'\n",
        "# Name of the checkpoint files\n",
        "checkpoint_prefix = os.path.join(checkpoint_dir, \"ckpt_{epoch}\")\n",
        "\n",
        "checkpoint_callback=tf.keras.callbacks.ModelCheckpoint(\n",
        "    filepath=checkpoint_prefix,\n",
        "    save_weights_only=True)"
      ],
      "execution_count": 158,
      "outputs": []
    },
    {
      "cell_type": "code",
      "metadata": {
        "id": "jd0Bv2_C5-QQ",
        "colab_type": "code",
        "colab": {}
      },
      "source": [
        "EPOCHS=120"
      ],
      "execution_count": 159,
      "outputs": []
    },
    {
      "cell_type": "code",
      "metadata": {
        "id": "d45DEqwF6AGP",
        "colab_type": "code",
        "colab": {
          "base_uri": "https://localhost:8080/",
          "height": 1000
        },
        "outputId": "6b64e6eb-bfc0-49a9-90fb-f464422c0a63"
      },
      "source": [
        "history = model.fit(dataset, epochs=EPOCHS, callbacks=[checkpoint_callback])"
      ],
      "execution_count": 160,
      "outputs": [
        {
          "output_type": "stream",
          "text": [
            "Epoch 1/120\n",
            "1/1 [==============================] - 0s 85ms/step - loss: 3.5263\n",
            "Epoch 2/120\n",
            "1/1 [==============================] - 0s 76ms/step - loss: 3.4865\n",
            "Epoch 3/120\n",
            "1/1 [==============================] - 0s 77ms/step - loss: 3.4324\n",
            "Epoch 4/120\n",
            "1/1 [==============================] - 0s 79ms/step - loss: 3.3187\n",
            "Epoch 5/120\n",
            "1/1 [==============================] - 0s 105ms/step - loss: 3.0545\n",
            "Epoch 6/120\n",
            "1/1 [==============================] - 0s 76ms/step - loss: 3.2698\n",
            "Epoch 7/120\n",
            "1/1 [==============================] - 0s 75ms/step - loss: 2.9971\n",
            "Epoch 8/120\n",
            "1/1 [==============================] - 0s 76ms/step - loss: 3.1080\n",
            "Epoch 9/120\n",
            "1/1 [==============================] - 0s 94ms/step - loss: 3.1510\n",
            "Epoch 10/120\n",
            "1/1 [==============================] - 0s 106ms/step - loss: 3.1211\n",
            "Epoch 11/120\n",
            "1/1 [==============================] - 0s 79ms/step - loss: 3.0773\n",
            "Epoch 12/120\n",
            "1/1 [==============================] - 0s 74ms/step - loss: 3.0106\n",
            "Epoch 13/120\n",
            "1/1 [==============================] - 0s 94ms/step - loss: 2.9453\n",
            "Epoch 14/120\n",
            "1/1 [==============================] - 0s 140ms/step - loss: 2.9288\n",
            "Epoch 15/120\n",
            "1/1 [==============================] - 0s 74ms/step - loss: 2.8690\n",
            "Epoch 16/120\n",
            "1/1 [==============================] - 0s 71ms/step - loss: 2.7517\n",
            "Epoch 17/120\n",
            "1/1 [==============================] - 0s 83ms/step - loss: 2.7111\n",
            "Epoch 18/120\n",
            "1/1 [==============================] - 0s 104ms/step - loss: 2.6834\n",
            "Epoch 19/120\n",
            "1/1 [==============================] - 0s 110ms/step - loss: 2.6232\n",
            "Epoch 20/120\n",
            "1/1 [==============================] - 0s 75ms/step - loss: 2.6071\n",
            "Epoch 21/120\n",
            "1/1 [==============================] - 0s 79ms/step - loss: 2.5776\n",
            "Epoch 22/120\n",
            "1/1 [==============================] - 0s 73ms/step - loss: 2.5554\n",
            "Epoch 23/120\n",
            "1/1 [==============================] - 0s 78ms/step - loss: 2.5090\n",
            "Epoch 24/120\n",
            "1/1 [==============================] - 0s 103ms/step - loss: 2.4649\n",
            "Epoch 25/120\n",
            "1/1 [==============================] - 0s 74ms/step - loss: 2.4707\n",
            "Epoch 26/120\n",
            "1/1 [==============================] - 0s 77ms/step - loss: 2.4167\n",
            "Epoch 27/120\n",
            "1/1 [==============================] - 0s 74ms/step - loss: 2.4284\n",
            "Epoch 28/120\n",
            "1/1 [==============================] - 0s 92ms/step - loss: 2.3874\n",
            "Epoch 29/120\n",
            "1/1 [==============================] - 0s 117ms/step - loss: 2.3431\n",
            "Epoch 30/120\n",
            "1/1 [==============================] - 0s 77ms/step - loss: 2.3850\n",
            "Epoch 31/120\n",
            "1/1 [==============================] - 0s 77ms/step - loss: 2.3324\n",
            "Epoch 32/120\n",
            "1/1 [==============================] - 0s 78ms/step - loss: 2.3220\n",
            "Epoch 33/120\n",
            "1/1 [==============================] - 0s 93ms/step - loss: 2.2936\n",
            "Epoch 34/120\n",
            "1/1 [==============================] - 0s 108ms/step - loss: 2.3366\n",
            "Epoch 35/120\n",
            "1/1 [==============================] - 0s 75ms/step - loss: 2.2479\n",
            "Epoch 36/120\n",
            "1/1 [==============================] - 0s 83ms/step - loss: 2.3243\n",
            "Epoch 37/120\n",
            "1/1 [==============================] - 0s 76ms/step - loss: 2.2721\n",
            "Epoch 38/120\n",
            "1/1 [==============================] - 0s 88ms/step - loss: 2.2547\n",
            "Epoch 39/120\n",
            "1/1 [==============================] - 0s 124ms/step - loss: 2.2171\n",
            "Epoch 40/120\n",
            "1/1 [==============================] - 0s 77ms/step - loss: 2.2071\n",
            "Epoch 41/120\n",
            "1/1 [==============================] - 0s 75ms/step - loss: 2.2160\n",
            "Epoch 42/120\n",
            "1/1 [==============================] - 0s 76ms/step - loss: 2.1738\n",
            "Epoch 43/120\n",
            "1/1 [==============================] - 0s 93ms/step - loss: 2.1769\n",
            "Epoch 44/120\n",
            "1/1 [==============================] - 0s 110ms/step - loss: 2.1674\n",
            "Epoch 45/120\n",
            "1/1 [==============================] - 0s 77ms/step - loss: 2.1642\n",
            "Epoch 46/120\n",
            "1/1 [==============================] - 0s 75ms/step - loss: 2.0981\n",
            "Epoch 47/120\n",
            "1/1 [==============================] - 0s 77ms/step - loss: 2.1392\n",
            "Epoch 48/120\n",
            "1/1 [==============================] - 0s 88ms/step - loss: 2.1672\n",
            "Epoch 49/120\n",
            "1/1 [==============================] - 0s 74ms/step - loss: 2.0964\n",
            "Epoch 50/120\n",
            "1/1 [==============================] - 0s 87ms/step - loss: 2.1241\n",
            "Epoch 51/120\n",
            "1/1 [==============================] - 0s 88ms/step - loss: 2.0891\n",
            "Epoch 52/120\n",
            "1/1 [==============================] - 0s 72ms/step - loss: 2.1407\n",
            "Epoch 53/120\n",
            "1/1 [==============================] - 0s 82ms/step - loss: 2.0571\n",
            "Epoch 54/120\n",
            "1/1 [==============================] - 0s 70ms/step - loss: 2.0963\n",
            "Epoch 55/120\n",
            "1/1 [==============================] - 0s 95ms/step - loss: 2.0574\n",
            "Epoch 56/120\n",
            "1/1 [==============================] - 0s 81ms/step - loss: 2.0646\n",
            "Epoch 57/120\n",
            "1/1 [==============================] - 0s 108ms/step - loss: 2.0507\n",
            "Epoch 58/120\n",
            "1/1 [==============================] - 0s 81ms/step - loss: 2.0492\n",
            "Epoch 59/120\n",
            "1/1 [==============================] - 0s 71ms/step - loss: 2.0928\n",
            "Epoch 60/120\n",
            "1/1 [==============================] - 0s 95ms/step - loss: 2.0206\n",
            "Epoch 61/120\n",
            "1/1 [==============================] - 0s 83ms/step - loss: 2.0070\n",
            "Epoch 62/120\n",
            "1/1 [==============================] - 0s 75ms/step - loss: 2.0302\n",
            "Epoch 63/120\n",
            "1/1 [==============================] - 0s 102ms/step - loss: 2.0402\n",
            "Epoch 64/120\n",
            "1/1 [==============================] - 0s 121ms/step - loss: 1.9548\n",
            "Epoch 65/120\n",
            "1/1 [==============================] - 0s 84ms/step - loss: 1.9975\n",
            "Epoch 66/120\n",
            "1/1 [==============================] - 0s 79ms/step - loss: 1.9808\n",
            "Epoch 67/120\n",
            "1/1 [==============================] - 0s 80ms/step - loss: 2.0065\n",
            "Epoch 68/120\n",
            "1/1 [==============================] - 0s 88ms/step - loss: 2.0091\n",
            "Epoch 69/120\n",
            "1/1 [==============================] - 0s 112ms/step - loss: 1.9566\n",
            "Epoch 70/120\n",
            "1/1 [==============================] - 0s 75ms/step - loss: 1.9711\n",
            "Epoch 71/120\n",
            "1/1 [==============================] - 0s 75ms/step - loss: 1.9514\n",
            "Epoch 72/120\n",
            "1/1 [==============================] - 0s 78ms/step - loss: 1.9505\n",
            "Epoch 73/120\n",
            "1/1 [==============================] - 0s 96ms/step - loss: 1.9536\n",
            "Epoch 74/120\n",
            "1/1 [==============================] - 0s 122ms/step - loss: 1.9144\n",
            "Epoch 75/120\n",
            "1/1 [==============================] - 0s 73ms/step - loss: 1.9217\n",
            "Epoch 76/120\n",
            "1/1 [==============================] - 0s 80ms/step - loss: 1.9342\n",
            "Epoch 77/120\n",
            "1/1 [==============================] - 0s 80ms/step - loss: 1.9454\n",
            "Epoch 78/120\n",
            "1/1 [==============================] - 0s 75ms/step - loss: 1.9337\n",
            "Epoch 79/120\n",
            "1/1 [==============================] - 0s 105ms/step - loss: 1.9292\n",
            "Epoch 80/120\n",
            "1/1 [==============================] - 0s 73ms/step - loss: 1.8650\n",
            "Epoch 81/120\n",
            "1/1 [==============================] - 0s 76ms/step - loss: 1.9069\n",
            "Epoch 82/120\n",
            "1/1 [==============================] - 0s 78ms/step - loss: 1.8473\n",
            "Epoch 83/120\n",
            "1/1 [==============================] - 0s 120ms/step - loss: 1.8617\n",
            "Epoch 84/120\n",
            "1/1 [==============================] - 0s 110ms/step - loss: 1.8457\n",
            "Epoch 85/120\n",
            "1/1 [==============================] - 0s 76ms/step - loss: 1.8389\n",
            "Epoch 86/120\n",
            "1/1 [==============================] - 0s 84ms/step - loss: 1.8402\n",
            "Epoch 87/120\n",
            "1/1 [==============================] - 0s 82ms/step - loss: 1.8730\n",
            "Epoch 88/120\n",
            "1/1 [==============================] - 0s 79ms/step - loss: 1.7742\n",
            "Epoch 89/120\n",
            "1/1 [==============================] - 0s 89ms/step - loss: 1.7965\n",
            "Epoch 90/120\n",
            "1/1 [==============================] - 0s 76ms/step - loss: 1.7480\n",
            "Epoch 91/120\n",
            "1/1 [==============================] - 0s 84ms/step - loss: 1.7811\n",
            "Epoch 92/120\n",
            "1/1 [==============================] - 0s 80ms/step - loss: 1.8106\n",
            "Epoch 93/120\n",
            "1/1 [==============================] - 0s 79ms/step - loss: 1.7599\n",
            "Epoch 94/120\n",
            "1/1 [==============================] - 0s 108ms/step - loss: 1.7872\n",
            "Epoch 95/120\n",
            "1/1 [==============================] - 0s 80ms/step - loss: 1.7364\n",
            "Epoch 96/120\n",
            "1/1 [==============================] - 0s 76ms/step - loss: 1.7327\n",
            "Epoch 97/120\n",
            "1/1 [==============================] - 0s 80ms/step - loss: 1.7302\n",
            "Epoch 98/120\n",
            "1/1 [==============================] - 0s 110ms/step - loss: 1.6968\n",
            "Epoch 99/120\n",
            "1/1 [==============================] - 0s 87ms/step - loss: 1.6923\n",
            "Epoch 100/120\n",
            "1/1 [==============================] - 0s 80ms/step - loss: 1.6832\n",
            "Epoch 101/120\n",
            "1/1 [==============================] - 0s 86ms/step - loss: 1.6750\n",
            "Epoch 102/120\n",
            "1/1 [==============================] - 0s 78ms/step - loss: 1.6649\n",
            "Epoch 103/120\n",
            "1/1 [==============================] - 0s 90ms/step - loss: 1.6419\n",
            "Epoch 104/120\n",
            "1/1 [==============================] - 0s 80ms/step - loss: 1.6160\n",
            "Epoch 105/120\n",
            "1/1 [==============================] - 0s 101ms/step - loss: 1.6361\n",
            "Epoch 106/120\n",
            "1/1 [==============================] - 0s 97ms/step - loss: 1.5959\n",
            "Epoch 107/120\n",
            "1/1 [==============================] - 0s 82ms/step - loss: 1.5822\n",
            "Epoch 108/120\n",
            "1/1 [==============================] - 0s 113ms/step - loss: 1.5883\n",
            "Epoch 109/120\n",
            "1/1 [==============================] - 0s 110ms/step - loss: 1.6039\n",
            "Epoch 110/120\n",
            "1/1 [==============================] - 0s 85ms/step - loss: 1.5408\n",
            "Epoch 111/120\n",
            "1/1 [==============================] - 0s 84ms/step - loss: 1.5163\n",
            "Epoch 112/120\n",
            "1/1 [==============================] - 0s 81ms/step - loss: 1.5319\n",
            "Epoch 113/120\n",
            "1/1 [==============================] - 0s 98ms/step - loss: 1.4492\n",
            "Epoch 114/120\n",
            "1/1 [==============================] - 0s 113ms/step - loss: 1.5339\n",
            "Epoch 115/120\n",
            "1/1 [==============================] - 0s 82ms/step - loss: 1.4984\n",
            "Epoch 116/120\n",
            "1/1 [==============================] - 0s 87ms/step - loss: 1.4616\n",
            "Epoch 117/120\n",
            "1/1 [==============================] - 0s 88ms/step - loss: 1.4182\n",
            "Epoch 118/120\n",
            "1/1 [==============================] - 0s 116ms/step - loss: 1.3731\n",
            "Epoch 119/120\n",
            "1/1 [==============================] - 0s 95ms/step - loss: 1.4108\n",
            "Epoch 120/120\n",
            "1/1 [==============================] - 0s 92ms/step - loss: 1.3381\n"
          ],
          "name": "stdout"
        }
      ]
    },
    {
      "cell_type": "markdown",
      "metadata": {
        "id": "YP8Hr1qpSMs7",
        "colab_type": "text"
      },
      "source": [
        "## Generación del texto"
      ]
    },
    {
      "cell_type": "code",
      "metadata": {
        "id": "lnpnlmOB6P-M",
        "colab_type": "code",
        "colab": {
          "base_uri": "https://localhost:8080/",
          "height": 35
        },
        "outputId": "3543e155-5e45-4f41-ee2f-8a54eb84cf55"
      },
      "source": [
        "tf.train.latest_checkpoint(checkpoint_dir)"
      ],
      "execution_count": 161,
      "outputs": [
        {
          "output_type": "execute_result",
          "data": {
            "application/vnd.google.colaboratory.intrinsic+json": {
              "type": "string"
            },
            "text/plain": [
              "'./training_checkpoints/ckpt_120'"
            ]
          },
          "metadata": {
            "tags": []
          },
          "execution_count": 161
        }
      ]
    },
    {
      "cell_type": "code",
      "metadata": {
        "id": "5Buc4Udp6TP-",
        "colab_type": "code",
        "colab": {}
      },
      "source": [
        "model = build_model(vocab_size, embedding_dim, rnn_units, batch_size=1)\n",
        "\n",
        "model.load_weights(tf.train.latest_checkpoint(checkpoint_dir))\n",
        "\n",
        "model.build(tf.TensorShape([1, None]))"
      ],
      "execution_count": 162,
      "outputs": []
    },
    {
      "cell_type": "code",
      "metadata": {
        "id": "fJAafuDt6ZkR",
        "colab_type": "code",
        "colab": {}
      },
      "source": [
        "def generate_text(model, start_string):\n",
        "  # Evaluation step (generating text using the learned model)\n",
        "\n",
        "  # Number of characters to generate\n",
        "  num_generate = 20\n",
        "\n",
        "  # Converting our start string to numbers (vectorizing)\n",
        "  input_eval = [char2idx[s] for s in start_string]\n",
        "  input_eval = tf.expand_dims(input_eval, 0)\n",
        "\n",
        "  # Empty string to store our results\n",
        "  text_generated = []\n",
        "\n",
        "  # Low temperatures results in more predictable text.\n",
        "  # Higher temperatures results in more surprising text.\n",
        "  # Experiment to find the best setting.\n",
        "  temperature = 1.0\n",
        "\n",
        "  # Here batch size == 1\n",
        "  model.reset_states()\n",
        "  for i in range(num_generate):\n",
        "    predictions = model(input_eval)\n",
        "    # remove the batch dimension\n",
        "    predictions = tf.squeeze(predictions, 0)\n",
        "\n",
        "    # using a categorical distribution to predict the character returned by the model\n",
        "    predictions = predictions / temperature\n",
        "    predicted_id = tf.random.categorical(predictions, num_samples=1)[-1,0].numpy()\n",
        "\n",
        "    # We pass the predicted character as the next input to the model\n",
        "    # along with the previous hidden state\n",
        "    input_eval = tf.expand_dims([predicted_id], 0)\n",
        "\n",
        "    text_generated.append(idx2char[predicted_id])\n",
        "\n",
        "  return (start_string + ''.join(text_generated))"
      ],
      "execution_count": 163,
      "outputs": []
    },
    {
      "cell_type": "code",
      "metadata": {
        "id": "QwKET7Fa-8Ey",
        "colab_type": "code",
        "colab": {
          "base_uri": "https://localhost:8080/",
          "height": 34
        },
        "outputId": "d798a0db-b025-42d1-bbf3-9b8f074b612f"
      },
      "source": [
        "eval = keyword_eval_text.split(',')\n",
        "\n",
        "for i in range(len(eval)-1): \n",
        "  eval[i] = eval[i].strip()\n",
        "    \n",
        "print(eval)"
      ],
      "execution_count": 164,
      "outputs": [
        {
          "output_type": "stream",
          "text": [
            "['acupuncture', 'antibiotics', 'bypass', 'hospital', 'nausea', 'prescription', 'surgery', 'treatment', '']\n"
          ],
          "name": "stdout"
        }
      ]
    },
    {
      "cell_type": "code",
      "metadata": {
        "id": "LNvpdGJ_6kpB",
        "colab_type": "code",
        "colab": {
          "base_uri": "https://localhost:8080/",
          "height": 187
        },
        "outputId": "eff286d8-bb8c-4729-e7fe-45d65a585c40"
      },
      "source": [
        "test = []\n",
        "predictions = []\n",
        "\n",
        "for i in range(len(eval)-1):\n",
        "  if i < len(eval):\n",
        "    test.append(eval[i])\n",
        "    print(\"predicting word {}...\".format(eval[i]))\n",
        "    prediction = generate_text(model, eval[i][:])\n",
        "    prediction = prediction.split(',')\n",
        "    predictions.append(prediction[0])\n",
        "  #print(generate_text(model, start_string=word[:2]))\n",
        "\n",
        "print(test)\n",
        "print(predictions)\n"
      ],
      "execution_count": 165,
      "outputs": [
        {
          "output_type": "stream",
          "text": [
            "predicting word acupuncture...\n",
            "predicting word antibiotics...\n",
            "predicting word bypass...\n",
            "predicting word hospital...\n",
            "predicting word nausea...\n",
            "predicting word prescription...\n",
            "predicting word surgery...\n",
            "predicting word treatment...\n",
            "['acupuncture', 'antibiotics', 'bypass', 'hospital', 'nausea', 'prescription', 'surgery', 'treatment']\n",
            "['acupuncture', 'antibiotics', 'bypass', 'hospitaling', 'nausea', 'prescription', 'surgery', 'treatmentablen']\n"
          ],
          "name": "stdout"
        }
      ]
    },
    {
      "cell_type": "code",
      "metadata": {
        "id": "jI-Q14Y8CcKz",
        "colab_type": "code",
        "colab": {
          "base_uri": "https://localhost:8080/",
          "height": 153
        },
        "outputId": "e8d3a317-c73f-4f36-d9a5-f9eeb2225038"
      },
      "source": [
        "evaluation = zip(test, predictions)\n",
        "evaluation = list(evaluation)\n",
        "evaluation "
      ],
      "execution_count": 166,
      "outputs": [
        {
          "output_type": "execute_result",
          "data": {
            "text/plain": [
              "[('acupuncture', 'acupuncture'),\n",
              " ('antibiotics', 'antibiotics'),\n",
              " ('bypass', 'bypass'),\n",
              " ('hospital', 'hospitaling'),\n",
              " ('nausea', 'nausea'),\n",
              " ('prescription', 'prescription'),\n",
              " ('surgery', 'surgery'),\n",
              " ('treatment', 'treatmentablen')]"
            ]
          },
          "metadata": {
            "tags": []
          },
          "execution_count": 166
        }
      ]
    },
    {
      "cell_type": "code",
      "metadata": {
        "id": "S4qKVAUXWUyp",
        "colab_type": "code",
        "colab": {}
      },
      "source": [
        "np.savetxt('text_generation.csv', evaluation, delimiter = ', ', fmt = '% s')"
      ],
      "execution_count": 168,
      "outputs": []
    }
  ]
}